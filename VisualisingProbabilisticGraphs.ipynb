{
 "cells": [
  {
   "cell_type": "code",
   "execution_count": null,
   "metadata": {
    "collapsed": false
   },
   "outputs": [],
   "source": [
    "import matplotlib as mpl\n",
    "import matplotlib.pyplot as plt\n",
    "\n",
    "import networkx as nx\n",
    "import numpy as np\n",
    "import pandas as pd\n",
    "\n",
    "import sys\n",
    "sys.path.append('../src/')\n",
    "import visJS_module\n",
    "\n",
    "import imp\n",
    "imp.reload(visJS_module)"
   ]
  },
  {
   "cell_type": "code",
   "execution_count": null,
   "metadata": {
    "collapsed": true
   },
   "outputs": [],
   "source": [
    "\n",
    "G = nx.connected_watts_strogatz_graph(30,5,.2)\n",
    "nodes = G.nodes()\n",
    "edges = G.edges()"
   ]
  },
  {
   "cell_type": "code",
   "execution_count": null,
   "metadata": {
    "collapsed": true
   },
   "outputs": [],
   "source": [
    "\n",
    "cc = nx.clustering(G)\n",
    "degree = G.degree()\n",
    "bc = nx.betweenness_centrality(G)\n",
    "nx.set_node_attributes(G,'clustering_coefficient',cc)\n",
    "nx.set_node_attributes(G,'degree',degree)\n",
    "nx.set_node_attributes(G,'betweenness_centrality',bc)"
   ]
  },
  {
   "cell_type": "code",
   "execution_count": null,
   "metadata": {
    "collapsed": false
   },
   "outputs": [],
   "source": [
    "\n",
    "node_to_color = visJS_module.return_node_to_color(G,field_to_map='betweenness_centrality',cmap=mpl.cm.spring_r,alpha = 1,\n",
    "                                                 color_max_frac = .9,color_min_frac = .1)\n",
    "\n",
    "pos = nx.spring_layout(G)\n",
    "\n",
    "nodes_dict = [{\"id\":n,\"color\":node_to_color[n],\n",
    "               \"degree\":nx.degree(G,n),\n",
    "              \"x\":pos[n][0]*1000,\n",
    "              \"y\":pos[n][1]*1000} for n in nodes\n",
    "              ]\n",
    "node_map = dict(zip(nodes,range(len(nodes))))  # map to indices for source/target in edges\n",
    "edges_dict = [{\"source\":node_map[edges[i][0]], \"target\":node_map[edges[i][1]], \n",
    "              \"color\":\"gray\",\"title\":'test'} for i in range(len(edges))]\n",
    "\n",
    "visJS_module.visjs_network(nodes_dict,edges_dict,time_stamp=1,\n",
    "                          node_size_multiplier=7,\n",
    "                          node_size_transform = '',\n",
    "                          node_color_highlight_border='red',\n",
    "                          node_color_highlight_background='#D3918B',\n",
    "                          node_color_hover_border='blue',\n",
    "                          node_color_hover_background='#8BADD3',\n",
    "                          node_font_size=25,\n",
    "                          edge_arrow_to=True,\n",
    "                          physics_enabled=True,\n",
    "                          edge_color_highlight='#8A324E',\n",
    "                          edge_color_hover='#8BADD3',\n",
    "                          edge_width=3,\n",
    "                          max_velocity=15,\n",
    "                          min_velocity=1)"
   ]
  },
  {
   "cell_type": "code",
   "execution_count": 12,
   "metadata": {
    "collapsed": false
   },
   "outputs": [
    {
     "name": "stdout",
     "output_type": "stream",
     "text": [
      "[0, 1, 2]\n"
     ]
    }
   ],
   "source": [
    "a = [0,1]\n",
    "b = [2]\n",
    "c = list(itertools.chain.from_iterable([a,b]))\n",
    "print(c)"
   ]
  },
  {
   "cell_type": "code",
   "execution_count": 40,
   "metadata": {
    "collapsed": false
   },
   "outputs": [
    {
     "name": "stdout",
     "output_type": "stream",
     "text": [
      "[7, 6, 4, 7, 1, 7, 8, 9, 7, 7, 10, 4, 4, 10, 10, 10, 7, 10, 1, 1, 5, 7, 10, 5, 7, 8, 9, 9, 1, 4, 9, 10, 5, 4, 1, 1, 8, 10, 4, 9, 3, 9, 10, 10, 7, 7, 10, 2, 2, 10, 2, 2, 8, 2, 2, 2, 2, 2, 2, 10, 10, 2, 4, 2, 2, 2, 10, 6, 2, 6, 4, 2, 8, 10, 2, 4, 10, 2, 6, 6, 2, 2, 6, 2, 2, 2, 2, 10, 2, 2, 6, 4, 8, 8, 6, 2, 10, 4, 4, 8, 4]\n"
     ]
    }
   ],
   "source": [
    "import json\n",
    "import numpy as np\n",
    "\n",
    "annotatedPosts = []\n",
    "numericalsRatings = []\n",
    "\n",
    "with open('allAnnotationsChutesRun1.json') as data_file:\n",
    "    with open('ForumPosts.json') as ratings_file:\n",
    "        data = json.load(data_file)\n",
    "        ratings = json.load(ratings_file)\n",
    "        \n",
    "        for idx, d in enumerate(data):\n",
    "            # We get 'Nones' sometimes when things left completeley blank. Replace with 0's so as not to interfere\n",
    "            # with our sums whilst letting us keep track of noOfSentences per post\n",
    "            d = [[0, 0, 0, 0, 0, 0, 0] if v is None else v for v in d] \n",
    "\n",
    "            d = np.array(d)\n",
    "            sums = d.sum(axis=0)\n",
    "            sums = np.argwhere(sums > 0)\n",
    "            sums = sums[sums !=6]\n",
    "            #print(sums)\n",
    "            annotatedPosts.append(sums.tolist())\n",
    "            \n",
    "            numericalsRatings.append(ratings[idx]['Rating'])\n",
    "            print('________________________________')\n",
    "\n",
    "\n",
    "annotatedPosts = np.array(annotatedPosts)\n",
    "numericalsRatings = np.array(numericalsRatings)\n",
    "\n",
    "\n",
    "\n",
    "        \n",
    "        "
   ]
  },
  {
   "cell_type": "code",
   "execution_count": null,
   "metadata": {
    "collapsed": true
   },
   "outputs": [],
   "source": []
  }
 ],
 "metadata": {
  "anaconda-cloud": {},
  "kernelspec": {
   "display_name": "Python [default]",
   "language": "python",
   "name": "python3"
  },
  "language_info": {
   "codemirror_mode": {
    "name": "ipython",
    "version": 3
   },
   "file_extension": ".py",
   "mimetype": "text/x-python",
   "name": "python",
   "nbconvert_exporter": "python",
   "pygments_lexer": "ipython3",
   "version": "3.5.2"
  }
 },
 "nbformat": 4,
 "nbformat_minor": 0
}
