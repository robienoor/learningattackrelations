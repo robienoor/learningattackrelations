{
 "cells": [
  {
   "cell_type": "markdown",
   "metadata": {},
   "source": [
    "<h1>Calculating the grounded extensions of a graph using Matrices</h1>\n",
    "\n",
    "We assume a that arguments attack relations are given in matrix form, in the form of a confusion matrix. We'll start by creating the matrix form of the argument graph below:"
   ]
  },
  {
   "cell_type": "code",
   "execution_count": 229,
   "metadata": {
    "collapsed": true
   },
   "outputs": [],
   "source": [
    "import numpy as np\n",
    "import pandas as pd"
   ]
  },
  {
   "cell_type": "code",
   "execution_count": 292,
   "metadata": {
    "collapsed": false
   },
   "outputs": [],
   "source": [
    "dungGraph = np.array([[0,0,1], [1,0,0], [0,0,0]])"
   ]
  },
  {
   "cell_type": "code",
   "execution_count": 293,
   "metadata": {
    "collapsed": false,
    "scrolled": false
   },
   "outputs": [
    {
     "data": {
      "text/plain": [
       "array([[0, 0, 1],\n",
       "       [1, 0, 0],\n",
       "       [0, 0, 0]])"
      ]
     },
     "execution_count": 293,
     "metadata": {},
     "output_type": "execute_result"
    }
   ],
   "source": [
    "dungGraph"
   ]
  },
  {
   "cell_type": "code",
   "execution_count": 294,
   "metadata": {
    "collapsed": false
   },
   "outputs": [],
   "source": [
    "sumArgs = dungGraph.sum(axis=0)"
   ]
  },
  {
   "cell_type": "code",
   "execution_count": 295,
   "metadata": {
    "collapsed": false,
    "scrolled": true
   },
   "outputs": [
    {
     "name": "stdout",
     "output_type": "stream",
     "text": [
      "[1]\n"
     ]
    }
   ],
   "source": [
    "inArgs = np.argwhere(sumArgs == 0)\n",
    "inArgs = (inArgs.tolist())\n",
    "inArgs = [i[0] for i in inArgs]\n",
    "print(inArgs)"
   ]
  },
  {
   "cell_type": "code",
   "execution_count": 296,
   "metadata": {
    "collapsed": false
   },
   "outputs": [
    {
     "name": "stdout",
     "output_type": "stream",
     "text": [
      "[[1 0 0]]\n"
     ]
    }
   ],
   "source": [
    "a = dungGraph[inArgs, :]\n",
    "print(a)"
   ]
  },
  {
   "cell_type": "code",
   "execution_count": 297,
   "metadata": {
    "collapsed": false
   },
   "outputs": [
    {
     "name": "stdout",
     "output_type": "stream",
     "text": [
      "[0]\n"
     ]
    }
   ],
   "source": [
    "outs = (np.unique(np.where(a>0)[1])).tolist()\n",
    "print(outs)"
   ]
  },
  {
   "cell_type": "markdown",
   "metadata": {},
   "source": [
    "<h3>Function for Calculating the In and Out Arguments of a Single Iteration</h3>"
   ]
  },
  {
   "cell_type": "code",
   "execution_count": 236,
   "metadata": {
    "collapsed": true
   },
   "outputs": [],
   "source": [
    "def getInOutArgs(argMtx):\n",
    "    sumArgs = argMtx.sum(axis=0)\n",
    "    \n",
    "    inArgs = np.argwhere(sumArgs == 0)\n",
    "    inArgs = (inArgs.tolist())\n",
    "    inArgs = [i[0] for i in inArgs]\n",
    "    \n",
    "    attacked = argMtx[inArgs, :]\n",
    "    \n",
    "    outArgs = (np.unique(np.where(attacked>0)[1])).tolist()\n",
    "    \n",
    "    return inArgs, outArgs"
   ]
  },
  {
   "cell_type": "markdown",
   "metadata": {},
   "source": [
    "<h3>Complete Function for Calculating the Grounded Extension</h3>"
   ]
  },
  {
   "cell_type": "code",
   "execution_count": 301,
   "metadata": {
    "collapsed": false
   },
   "outputs": [
    {
     "name": "stdout",
     "output_type": "stream",
     "text": [
      "[]\n"
     ]
    }
   ],
   "source": [
    "def calculateGroundedExtension(argMtx):\n",
    "    argTypes = np.array(range(0, argMtx.shape[0]))\n",
    "\n",
    "    ext = []\n",
    "    terminate = False\n",
    "\n",
    "    while not terminate:\n",
    "        inArgs, outArgs = getInOutArgs(argMtx)\n",
    "\n",
    "        if len(inArgs) > 0:\n",
    "            ext.extend(list(argTypes[inArgs]))\n",
    "            argsDelete = inArgs + outArgs\n",
    "            argMtx = np.delete(argMtx, argsDelete, axis = 0)\n",
    "            argMtx = np.delete(argMtx, argsDelete, axis = 1)\n",
    "            argTypes = np.delete(argTypes, argsDelete)\n",
    "\n",
    "        else:\n",
    "            break\n",
    "\n",
    "        sums = np.sum(argMtx.sum(axis=0))\n",
    "        \n",
    "        # If we find that the resulting graph (having deleted current in and out args) is got no more attacks in it then add \n",
    "        # whatever is leftover to the extension\n",
    "        if sums == 0:\n",
    "            ext.extend(list(argTypes))\n",
    "            terminate = True\n",
    "        \n",
    "    return ext\n",
    "\n",
    "argMtx = np.array([[0,1], [1,0]])\n",
    "print(calculateGroundedExtension(argMtx))"
   ]
  },
  {
   "cell_type": "code",
   "execution_count": 298,
   "metadata": {
    "collapsed": false
   },
   "outputs": [
    {
     "name": "stdout",
     "output_type": "stream",
     "text": [
      "extension\n",
      "[1, 2]\n"
     ]
    }
   ],
   "source": [
    "argMtx = np.array([[0,0,1], [1,0,0], [0,0,0]])\n",
    "argTypes = np.array(range(0, argMtx.shape[0]))\n",
    "\n",
    "ext = []\n",
    "terminate = False\n",
    "\n",
    "while not terminate:\n",
    "    inArgs, outArgs = getInOutArgs(argMtx)\n",
    "    \n",
    "    if len(inArgs) > 0:\n",
    "        ext.extend(list(argTypes[inArgs]))\n",
    "        argsDelete = inArgs + outArgs\n",
    "        argMtx = np.delete(argMtx, argsDelete, axis = 0)\n",
    "        argMtx = np.delete(argMtx, argsDelete, axis = 1)\n",
    "        argTypes = np.delete(argTypes, argsDelete)\n",
    "        \n",
    "    else:\n",
    "        break\n",
    "    \n",
    "    sums = np.sum(dungGraph.sum(axis=0))\n",
    "    terminate = (sums == 0)\n",
    "        \n",
    "\n",
    "print('extension')\n",
    "print(ext)\n",
    "    "
   ]
  },
  {
   "cell_type": "markdown",
   "metadata": {},
   "source": [
    "<h1>Generating All Attack Relations Given a Review and Rating</h1>\n"
   ]
  },
  {
   "cell_type": "code",
   "execution_count": 285,
   "metadata": {
    "collapsed": false
   },
   "outputs": [],
   "source": [
    "import itertools\n",
    "posArgs = [0]\n",
    "negArgs = [1,2]\n",
    "\n",
    "nargs = len(posArgs + negArgs)\n",
    "rating = 1\n",
    "\n",
    "groundedExtension = negArgs"
   ]
  },
  {
   "cell_type": "code",
   "execution_count": 286,
   "metadata": {
    "collapsed": false
   },
   "outputs": [
    {
     "name": "stdout",
     "output_type": "stream",
     "text": [
      "ptn\n",
      "(1, 2)\n",
      "5\n",
      "ptn\n",
      "(2, 1)\n",
      "7\n",
      "[0 4 5 7 8]\n",
      "[[0 0 0 0 0 0 0 0 0]\n",
      " [0 0 0 0 0 0 1 0 0]\n",
      " [0 0 0 1 0 0 0 0 0]\n",
      " [0 0 0 1 0 0 1 0 0]\n",
      " [0 0 1 0 0 0 0 0 0]\n",
      " [0 0 1 0 0 0 1 0 0]\n",
      " [0 0 1 1 0 0 0 0 0]\n",
      " [0 0 1 1 0 0 1 0 0]\n",
      " [0 1 0 0 0 0 0 0 0]\n",
      " [0 1 0 0 0 0 1 0 0]\n",
      " [0 1 0 1 0 0 0 0 0]\n",
      " [0 1 0 1 0 0 1 0 0]\n",
      " [0 1 1 0 0 0 0 0 0]\n",
      " [0 1 1 0 0 0 1 0 0]\n",
      " [0 1 1 1 0 0 0 0 0]\n",
      " [0 1 1 1 0 0 1 0 0]]\n"
     ]
    }
   ],
   "source": [
    "allPermutations = np.array(list(itertools.product([0,1], repeat=nargs*nargs)))\n",
    "\n",
    "\n",
    "circularAttacks = (np.arange(0, nargs*nargs, nargs+1)).tolist()\n",
    "\n",
    "samePolarityAttacks = []\n",
    "posList = list(itertools.permutations(posArgs, 2))\n",
    "negList = list(itertools.permutations(negArgs, 2))\n",
    "totList = posList + negList\n",
    "\n",
    "for l in totList:\n",
    "    ptn = ((l[0]+1)*nargs)- ((nargs+1) - l[1]) + 1 # All the odd +1 are to account for the shift in 0 index\n",
    "    print('ptn')\n",
    "    print(l)\n",
    "    print(ptn)\n",
    "    samePolarityAttacks.append(ptn)\n",
    "\n",
    "    \n",
    "graphsToDelete = np.unique([circularAttacks + samePolarityAttacks])\n",
    "\n",
    "print(graphsToDelete)\n",
    "subGraphs = allPermutations[:,graphsToDelete]\n",
    "cutDownGraphs = np.delete(allPermutations, (np.where(subGraphs>0)[0]).tolist(), axis = 0)\n",
    "\n",
    "print(cutDownGraphs)"
   ]
  },
  {
   "cell_type": "code",
   "execution_count": 287,
   "metadata": {
    "collapsed": false
   },
   "outputs": [
    {
     "name": "stdout",
     "output_type": "stream",
     "text": [
      "[0 0 0 1 0 0 1 0 0]\n"
     ]
    }
   ],
   "source": [
    "first = cutDownGraphs[3]\n",
    "print(first)"
   ]
  },
  {
   "cell_type": "markdown",
   "metadata": {},
   "source": [
    "<h3>Convert Each Member of CutDown into an Attack Matrix</h3>"
   ]
  },
  {
   "cell_type": "code",
   "execution_count": 288,
   "metadata": {
    "collapsed": false
   },
   "outputs": [
    {
     "name": "stdout",
     "output_type": "stream",
     "text": [
      "[[0 0 0]\n",
      " [1 0 0]\n",
      " [1 0 0]]\n"
     ]
    }
   ],
   "source": [
    "attackMatrix = np.vstack( np.array_split(np.array(first), nargs))\n",
    "print(attackMatrix)"
   ]
  },
  {
   "cell_type": "markdown",
   "metadata": {},
   "source": [
    "<h3>Iterate Over Each Permutation and See Grounded Ext</h3>\n",
    "\n",
    "We are checking to see that the grounded extension of each graph matches our ideal grounded extension. If we want we can change this criteria to say that the grounded extension of each graph should be a subset of the ideal grounded extension. This way it means that we allow some arguments to be attacked. Meaning arguments of the same set do not defend eachother all the time"
   ]
  },
  {
   "cell_type": "code",
   "execution_count": 289,
   "metadata": {
    "collapsed": false
   },
   "outputs": [],
   "source": [
    "acceptedGraphs = []\n",
    "\n",
    "for graph in cutDownGraphs:\n",
    "    attMtx = np.vstack( np.array_split(np.array(graph), nargs))\n",
    "    ext = calculateGroundedExtension(attMtx)\n",
    "    if set(groundedExtension) == set(ext): \n",
    "        acceptedGraphs.append(graph.tolist())    "
   ]
  },
  {
   "cell_type": "code",
   "execution_count": 290,
   "metadata": {
    "collapsed": false
   },
   "outputs": [
    {
     "name": "stdout",
     "output_type": "stream",
     "text": [
      "[[0 2 2]\n",
      " [5 0 0]\n",
      " [5 0 0]]\n"
     ]
    }
   ],
   "source": [
    "acceptedGraphs = np.array(acceptedGraphs)\n",
    "\n",
    "sumOfAttacks = (acceptedGraphs).sum(axis=0)\n",
    "print(np.vstack( np.array_split(np.array(sumOfAttacks), nargs)))"
   ]
  },
  {
   "cell_type": "code",
   "execution_count": 291,
   "metadata": {
    "collapsed": false
   },
   "outputs": [
    {
     "name": "stdout",
     "output_type": "stream",
     "text": [
      "[ 0.          0.28571429  0.28571429  0.71428571  0.          0.\n",
      "  0.71428571  0.          0.        ]\n"
     ]
    }
   ],
   "source": [
    "normalisedAttcks = sumOfAttacks / acceptedGraphs.shape[0]\n",
    "print(normalisedAttcks)"
   ]
  },
  {
   "cell_type": "markdown",
   "metadata": {},
   "source": [
    "<h3>Function for Calculating Normalised Distribution</h3>"
   ]
  },
  {
   "cell_type": "code",
   "execution_count": 246,
   "metadata": {
    "collapsed": true
   },
   "outputs": [],
   "source": [
    "def calculateProbabilityDistribution(posArgs, negArgs, rating):\n",
    "    \n",
    "    nargs = len(posArgs + negArgs)\n",
    "    allPermutations = np.array(list(itertools.product([0,1], repeat=nargs*nargs)))\n",
    "    \n",
    "    # Determine the Polarity of the Post\n",
    "    if rating < 5:\n",
    "        groundedExtension = negArgs\n",
    "    elif rating > 6:\n",
    "        groundedExtension = posArgs\n",
    "    else:\n",
    "        groundedExtension = []\n",
    "    \n",
    "    \n",
    "    # Create list of Attacks that we will never need. Circular attacks, and attacks between arguments of same polarity\n",
    "    circularAttacks = (np.arange(0, nargs*nargs, nargs+1)).tolist()\n",
    "    samePolarityAttacks = []\n",
    "    posList = list(itertools.permutations(posArgs, 2))\n",
    "    negList = list(itertools.permutations(negArgs, 2))\n",
    "    totList = posList + negList\n",
    "\n",
    "    for l in totList:\n",
    "        ptn = ((l[0]+1)*nargs)- ((nargs+1) - l[1]) + 1 # All the odd +1 are to account for the shift in 0 index\n",
    "        samePolarityAttacks.append(ptn)\n",
    "\n",
    "    \n",
    "    graphsToDelete = np.unique([circularAttacks + samePolarityAttacks])\n",
    "    subGraphs = allPermutations[:,graphsToDelete]\n",
    "    cutDownGraphs = np.delete(allPermutations, (np.where(subGraphs>0)[0]).tolist(), axis = 0)\n",
    "\n",
    "    # Iterate over the set of graphs that are possible (excluding circular attacks and same polarity attacks) to see which one's \n",
    "    # have a grounded extension matching the polarti\n",
    "    acceptedGraphs = []\n",
    "    for graph in cutDownGraphs:\n",
    "        attMtx = np.vstack( np.array_split(np.array(graph), nargs))\n",
    "        ext = calculateGroundedExtension(attMtx)\n",
    "        if set(groundedExtension) == set(ext): \n",
    "            acceptedGraphs.append(graph.tolist()) \n",
    "        \n",
    "    # Aggregate then normalise the complete set of Attacks\n",
    "    acceptedGraphs = np.array(acceptedGraphs)\n",
    "    sumOfAttacks = (acceptedGraphs).sum(axis=0)\n",
    "    normalisedAttcks = sumOfAttacks / acceptedGraphs.shape[0]\n",
    "    \n",
    "    return normalisedAttcks"
   ]
  },
  {
   "cell_type": "markdown",
   "metadata": {},
   "source": [
    "<h1>Generating Artificial Data</h1>\n",
    "\n",
    "We will generate a bunch of artificial data to test our pipeline with"
   ]
  },
  {
   "cell_type": "code",
   "execution_count": 261,
   "metadata": {
    "collapsed": false
   },
   "outputs": [],
   "source": [
    "highestRating = 10\n",
    "noArgsTypes = 6\n",
    "positiveArgTypes = [0,1,2]\n",
    "negativeArgTypes = [3,4,5]\n",
    "noPosts = 5\n",
    "\n",
    "randomReviews = np.random.randint(noArgsTypes, size=(noPosts,4))\n",
    "randomRatings = np.random.randint(highestRating, size=(noPosts,1))\n",
    "\n",
    "globalGraph = np.zeros(noArgsTypes*noArgsTypes)"
   ]
  },
  {
   "cell_type": "markdown",
   "metadata": {},
   "source": [
    "<h3>Calculating Normal Distributions for Each Review</h3>"
   ]
  },
  {
   "cell_type": "code",
   "execution_count": 264,
   "metadata": {
    "collapsed": false
   },
   "outputs": [
    {
     "name": "stdout",
     "output_type": "stream",
     "text": [
      "-----\n",
      "review:  [5 4 4 1]\n",
      "rating:  [7]\n",
      "posArgs:  [1]\n",
      "negArgs:  [4, 5]\n",
      "[ 0.          1.          1.          0.66666667  0.          0.\n",
      "  0.66666667  0.          0.        ]\n",
      "-----\n",
      "review:  [5 5 2 3]\n",
      "rating:  [8]\n",
      "posArgs:  [2]\n",
      "negArgs:  [3, 5]\n",
      "[ 0.          1.          1.          0.66666667  0.          0.\n",
      "  0.66666667  0.          0.        ]\n",
      "-----\n",
      "review:  [3 5 5 1]\n",
      "rating:  [1]\n",
      "posArgs:  [1]\n",
      "negArgs:  [3, 5]\n",
      "[ 0.          1.          1.          0.66666667  0.          0.\n",
      "  0.66666667  0.          0.        ]\n",
      "-----\n",
      "review:  [1 4 4 5]\n",
      "rating:  [8]\n",
      "posArgs:  [1]\n",
      "negArgs:  [4, 5]\n",
      "[ 0.          1.          1.          0.66666667  0.          0.\n",
      "  0.66666667  0.          0.        ]\n",
      "-----\n",
      "review:  [4 2 4 1]\n",
      "rating:  [0]\n",
      "posArgs:  [1, 2]\n",
      "negArgs:  [4]\n",
      "[ 0.          0.          0.66666667  0.          0.          0.66666667\n",
      "  1.          1.          0.        ]\n",
      "-----------------------------------------------------------------\n",
      "[ 0.  0.  0.  0.  0.  3.  6.  9.  3.  4.  2.  0.  7.  3.  0.  6.  2.  0.\n",
      "  0.  0.  0.  0.  0.  0.  0.  0.  0.  0.  0.  0.  0.  0.  0.  0.  0.  0.]\n"
     ]
    }
   ],
   "source": [
    "for idx, review in enumerate(randomReviews):\n",
    "    print('-----')\n",
    "    print('review: ', review)\n",
    "    print('rating: ', randomRatings[idx])\n",
    "    \n",
    "    posArgs = list(set(positiveArgTypes).intersection(review.tolist()))\n",
    "    print('posArgs: ', posArgs)\n",
    "    negArgs = list(set(negativeArgTypes).intersection(review.tolist()))\n",
    "    print('negArgs: ', negArgs)\n",
    "    posArgsIdx = list(range(0,len(posArgs)))\n",
    "    negArgsIdx = list(range(len(posArgs), len(posArgs)+len(negArgs)))\n",
    "    \n",
    "    nmlDstb = calculateProbabilityDistribution(posArgsIdx, negArgsIdx, randomRatings[idx])\n",
    "    print(nmlDstb)\n",
    "    globalContribution = np.zeros(noArgsTypes*noArgsTypes)\n",
    "    \n",
    "    noOfArgTypesFound = len(list(posArgs+negArgs))\n",
    "    \n",
    "    allAttacks = list(itertools.product(list(posArgs+negArgs), repeat=2))\n",
    "    allAttacksIdx = []\n",
    "    for attack in allAttacks:\n",
    "        ptn = ((attack[0]+1)*noArgsTypes)- ((noArgsTypes+1) - attack[1])\n",
    "        allAttacksIdx.append(ptn)\n",
    "    \n",
    "    globalContribution[allAttacksIdx] = nmlDstb\n",
    "    \n",
    "    globalGraph = np.add(globalGraph, globalContribution)\n",
    "    \n",
    " \n",
    "print('-----------------------------------------------------------------')\n",
    "print(globalGraph)"
   ]
  },
  {
   "cell_type": "code",
   "execution_count": 302,
   "metadata": {
    "collapsed": true
   },
   "outputs": [],
   "source": [
    "import networkx as nx\n",
    "G=nx.Graph()"
   ]
  },
  {
   "cell_type": "code",
   "execution_count": 303,
   "metadata": {
    "collapsed": true
   },
   "outputs": [],
   "source": [
    "G.add_nodes_from([2,3])"
   ]
  },
  {
   "cell_type": "code",
   "execution_count": 305,
   "metadata": {
    "collapsed": false
   },
   "outputs": [
    {
     "ename": "ImportError",
     "evalue": "cannot import name 'QtCore'",
     "output_type": "error",
     "traceback": [
      "\u001b[1;31m---------------------------------------------------------------------------\u001b[0m",
      "\u001b[1;31mImportError\u001b[0m                               Traceback (most recent call last)",
      "\u001b[1;32m<ipython-input-305-6242da11dabd>\u001b[0m in \u001b[0;36m<module>\u001b[1;34m()\u001b[0m\n\u001b[0;32m      1\u001b[0m \u001b[1;32mimport\u001b[0m \u001b[0mnetworkx\u001b[0m \u001b[1;32mas\u001b[0m \u001b[0mnx\u001b[0m\u001b[1;33m\u001b[0m\u001b[0m\n\u001b[0;32m      2\u001b[0m \u001b[1;32mimport\u001b[0m \u001b[0mnumpy\u001b[0m \u001b[1;32mas\u001b[0m \u001b[0mnp\u001b[0m\u001b[1;33m\u001b[0m\u001b[0m\n\u001b[1;32m----> 3\u001b[1;33m \u001b[1;32mimport\u001b[0m \u001b[0mmatplotlib\u001b[0m\u001b[1;33m.\u001b[0m\u001b[0mpyplot\u001b[0m \u001b[1;32mas\u001b[0m \u001b[0mplt\u001b[0m\u001b[1;33m\u001b[0m\u001b[0m\n\u001b[0m",
      "\u001b[1;32mC:\\Users\\Robie\\Anaconda3\\lib\\site-packages\\matplotlib\\pyplot.py\u001b[0m in \u001b[0;36m<module>\u001b[1;34m()\u001b[0m\n\u001b[0;32m    113\u001b[0m \u001b[1;33m\u001b[0m\u001b[0m\n\u001b[0;32m    114\u001b[0m \u001b[1;32mfrom\u001b[0m \u001b[0mmatplotlib\u001b[0m\u001b[1;33m.\u001b[0m\u001b[0mbackends\u001b[0m \u001b[1;32mimport\u001b[0m \u001b[0mpylab_setup\u001b[0m\u001b[1;33m\u001b[0m\u001b[0m\n\u001b[1;32m--> 115\u001b[1;33m \u001b[0m_backend_mod\u001b[0m\u001b[1;33m,\u001b[0m \u001b[0mnew_figure_manager\u001b[0m\u001b[1;33m,\u001b[0m \u001b[0mdraw_if_interactive\u001b[0m\u001b[1;33m,\u001b[0m \u001b[0m_show\u001b[0m \u001b[1;33m=\u001b[0m \u001b[0mpylab_setup\u001b[0m\u001b[1;33m(\u001b[0m\u001b[1;33m)\u001b[0m\u001b[1;33m\u001b[0m\u001b[0m\n\u001b[0m\u001b[0;32m    116\u001b[0m \u001b[1;33m\u001b[0m\u001b[0m\n\u001b[0;32m    117\u001b[0m \u001b[0m_IP_REGISTERED\u001b[0m \u001b[1;33m=\u001b[0m \u001b[1;32mNone\u001b[0m\u001b[1;33m\u001b[0m\u001b[0m\n",
      "\u001b[1;32mC:\\Users\\Robie\\Anaconda3\\lib\\site-packages\\matplotlib\\backends\\__init__.py\u001b[0m in \u001b[0;36mpylab_setup\u001b[1;34m()\u001b[0m\n\u001b[0;32m     30\u001b[0m     \u001b[1;31m# imports. 0 means only perform absolute imports.\u001b[0m\u001b[1;33m\u001b[0m\u001b[1;33m\u001b[0m\u001b[0m\n\u001b[0;32m     31\u001b[0m     backend_mod = __import__(backend_name,\n\u001b[1;32m---> 32\u001b[1;33m                              globals(),locals(),[backend_name],0)\n\u001b[0m\u001b[0;32m     33\u001b[0m \u001b[1;33m\u001b[0m\u001b[0m\n\u001b[0;32m     34\u001b[0m     \u001b[1;31m# Things we pull in from all backends\u001b[0m\u001b[1;33m\u001b[0m\u001b[1;33m\u001b[0m\u001b[0m\n",
      "\u001b[1;32mC:\\Users\\Robie\\Anaconda3\\lib\\site-packages\\matplotlib\\backends\\backend_qt4agg.py\u001b[0m in \u001b[0;36m<module>\u001b[1;34m()\u001b[0m\n\u001b[0;32m     16\u001b[0m \u001b[1;33m\u001b[0m\u001b[0m\n\u001b[0;32m     17\u001b[0m \u001b[1;33m\u001b[0m\u001b[0m\n\u001b[1;32m---> 18\u001b[1;33m \u001b[1;32mfrom\u001b[0m \u001b[1;33m.\u001b[0m\u001b[0mbackend_qt5agg\u001b[0m \u001b[1;32mimport\u001b[0m \u001b[0mFigureCanvasQTAggBase\u001b[0m \u001b[1;32mas\u001b[0m \u001b[0m_FigureCanvasQTAggBase\u001b[0m\u001b[1;33m\u001b[0m\u001b[0m\n\u001b[0m\u001b[0;32m     19\u001b[0m \u001b[1;33m\u001b[0m\u001b[0m\n\u001b[0;32m     20\u001b[0m \u001b[1;32mfrom\u001b[0m \u001b[1;33m.\u001b[0m\u001b[0mbackend_agg\u001b[0m \u001b[1;32mimport\u001b[0m \u001b[0mFigureCanvasAgg\u001b[0m\u001b[1;33m\u001b[0m\u001b[0m\n",
      "\u001b[1;32mC:\\Users\\Robie\\Anaconda3\\lib\\site-packages\\matplotlib\\backends\\backend_qt5agg.py\u001b[0m in \u001b[0;36m<module>\u001b[1;34m()\u001b[0m\n\u001b[0;32m     14\u001b[0m \u001b[1;33m\u001b[0m\u001b[0m\n\u001b[0;32m     15\u001b[0m \u001b[1;32mfrom\u001b[0m \u001b[1;33m.\u001b[0m\u001b[0mbackend_agg\u001b[0m \u001b[1;32mimport\u001b[0m \u001b[0mFigureCanvasAgg\u001b[0m\u001b[1;33m\u001b[0m\u001b[0m\n\u001b[1;32m---> 16\u001b[1;33m \u001b[1;32mfrom\u001b[0m \u001b[1;33m.\u001b[0m\u001b[0mbackend_qt5\u001b[0m \u001b[1;32mimport\u001b[0m \u001b[0mQtCore\u001b[0m\u001b[1;33m\u001b[0m\u001b[0m\n\u001b[0m\u001b[0;32m     17\u001b[0m \u001b[1;32mfrom\u001b[0m \u001b[1;33m.\u001b[0m\u001b[0mbackend_qt5\u001b[0m \u001b[1;32mimport\u001b[0m \u001b[0mQtGui\u001b[0m\u001b[1;33m\u001b[0m\u001b[0m\n\u001b[0;32m     18\u001b[0m \u001b[1;32mfrom\u001b[0m \u001b[1;33m.\u001b[0m\u001b[0mbackend_qt5\u001b[0m \u001b[1;32mimport\u001b[0m \u001b[0mFigureManagerQT\u001b[0m\u001b[1;33m\u001b[0m\u001b[0m\n",
      "\u001b[1;32mC:\\Users\\Robie\\Anaconda3\\lib\\site-packages\\matplotlib\\backends\\backend_qt5.py\u001b[0m in \u001b[0;36m<module>\u001b[1;34m()\u001b[0m\n\u001b[0;32m     24\u001b[0m \u001b[1;33m\u001b[0m\u001b[0m\n\u001b[0;32m     25\u001b[0m \u001b[1;32mfrom\u001b[0m \u001b[0mmatplotlib\u001b[0m\u001b[1;33m.\u001b[0m\u001b[0mwidgets\u001b[0m \u001b[1;32mimport\u001b[0m \u001b[0mSubplotTool\u001b[0m\u001b[1;33m\u001b[0m\u001b[0m\n\u001b[1;32m---> 26\u001b[1;33m \u001b[1;32mimport\u001b[0m \u001b[0mmatplotlib\u001b[0m\u001b[1;33m.\u001b[0m\u001b[0mbackends\u001b[0m\u001b[1;33m.\u001b[0m\u001b[0mqt_editor\u001b[0m\u001b[1;33m.\u001b[0m\u001b[0mfigureoptions\u001b[0m \u001b[1;32mas\u001b[0m \u001b[0mfigureoptions\u001b[0m\u001b[1;33m\u001b[0m\u001b[0m\n\u001b[0m\u001b[0;32m     27\u001b[0m \u001b[1;33m\u001b[0m\u001b[0m\n\u001b[0;32m     28\u001b[0m from .qt_compat import (QtCore, QtGui, QtWidgets, _getSaveFileName,\n",
      "\u001b[1;32mC:\\Users\\Robie\\Anaconda3\\lib\\site-packages\\matplotlib\\backends\\qt_editor\\figureoptions.py\u001b[0m in \u001b[0;36m<module>\u001b[1;34m()\u001b[0m\n\u001b[0;32m     18\u001b[0m \u001b[1;32mimport\u001b[0m \u001b[0mmatplotlib\u001b[0m\u001b[1;33m\u001b[0m\u001b[0m\n\u001b[0;32m     19\u001b[0m \u001b[1;32mfrom\u001b[0m \u001b[0mmatplotlib\u001b[0m \u001b[1;32mimport\u001b[0m \u001b[0mcm\u001b[0m\u001b[1;33m,\u001b[0m \u001b[0mmarkers\u001b[0m\u001b[1;33m,\u001b[0m \u001b[0mcolors\u001b[0m \u001b[1;32mas\u001b[0m \u001b[0mmcolors\u001b[0m\u001b[1;33m\u001b[0m\u001b[0m\n\u001b[1;32m---> 20\u001b[1;33m \u001b[1;32mimport\u001b[0m \u001b[0mmatplotlib\u001b[0m\u001b[1;33m.\u001b[0m\u001b[0mbackends\u001b[0m\u001b[1;33m.\u001b[0m\u001b[0mqt_editor\u001b[0m\u001b[1;33m.\u001b[0m\u001b[0mformlayout\u001b[0m \u001b[1;32mas\u001b[0m \u001b[0mformlayout\u001b[0m\u001b[1;33m\u001b[0m\u001b[0m\n\u001b[0m\u001b[0;32m     21\u001b[0m \u001b[1;32mfrom\u001b[0m \u001b[0mmatplotlib\u001b[0m\u001b[1;33m.\u001b[0m\u001b[0mbackends\u001b[0m\u001b[1;33m.\u001b[0m\u001b[0mqt_compat\u001b[0m \u001b[1;32mimport\u001b[0m \u001b[0mQtGui\u001b[0m\u001b[1;33m\u001b[0m\u001b[0m\n\u001b[0;32m     22\u001b[0m \u001b[1;33m\u001b[0m\u001b[0m\n",
      "\u001b[1;32mC:\\Users\\Robie\\Anaconda3\\lib\\site-packages\\matplotlib\\backends\\qt_editor\\formlayout.py\u001b[0m in \u001b[0;36m<module>\u001b[1;34m()\u001b[0m\n\u001b[0;32m     54\u001b[0m \u001b[1;33m\u001b[0m\u001b[0m\n\u001b[0;32m     55\u001b[0m \u001b[1;32mfrom\u001b[0m \u001b[0mmatplotlib\u001b[0m \u001b[1;32mimport\u001b[0m \u001b[0mcolors\u001b[0m \u001b[1;32mas\u001b[0m \u001b[0mmcolors\u001b[0m\u001b[1;33m\u001b[0m\u001b[0m\n\u001b[1;32m---> 56\u001b[1;33m \u001b[1;32mfrom\u001b[0m \u001b[0mmatplotlib\u001b[0m\u001b[1;33m.\u001b[0m\u001b[0mbackends\u001b[0m\u001b[1;33m.\u001b[0m\u001b[0mqt_compat\u001b[0m \u001b[1;32mimport\u001b[0m \u001b[0mQtGui\u001b[0m\u001b[1;33m,\u001b[0m \u001b[0mQtWidgets\u001b[0m\u001b[1;33m,\u001b[0m \u001b[0mQtCore\u001b[0m\u001b[1;33m\u001b[0m\u001b[0m\n\u001b[0m\u001b[0;32m     57\u001b[0m \u001b[1;33m\u001b[0m\u001b[0m\n\u001b[0;32m     58\u001b[0m \u001b[1;33m\u001b[0m\u001b[0m\n",
      "\u001b[1;32mC:\\Users\\Robie\\Anaconda3\\lib\\site-packages\\matplotlib\\backends\\qt_compat.py\u001b[0m in \u001b[0;36m<module>\u001b[1;34m()\u001b[0m\n\u001b[0;32m    135\u001b[0m     \u001b[1;31m# have been changed in the above if block\u001b[0m\u001b[1;33m\u001b[0m\u001b[1;33m\u001b[0m\u001b[0m\n\u001b[0;32m    136\u001b[0m     \u001b[1;32mif\u001b[0m \u001b[0mQT_API\u001b[0m \u001b[1;32min\u001b[0m \u001b[1;33m[\u001b[0m\u001b[0mQT_API_PYQT\u001b[0m\u001b[1;33m,\u001b[0m \u001b[0mQT_API_PYQTv2\u001b[0m\u001b[1;33m]\u001b[0m\u001b[1;33m:\u001b[0m  \u001b[1;31m# PyQt4 API\u001b[0m\u001b[1;33m\u001b[0m\u001b[0m\n\u001b[1;32m--> 137\u001b[1;33m         \u001b[1;32mfrom\u001b[0m \u001b[0mPyQt4\u001b[0m \u001b[1;32mimport\u001b[0m \u001b[0mQtCore\u001b[0m\u001b[1;33m,\u001b[0m \u001b[0mQtGui\u001b[0m\u001b[1;33m\u001b[0m\u001b[0m\n\u001b[0m\u001b[0;32m    138\u001b[0m \u001b[1;33m\u001b[0m\u001b[0m\n\u001b[0;32m    139\u001b[0m         \u001b[1;32mtry\u001b[0m\u001b[1;33m:\u001b[0m\u001b[1;33m\u001b[0m\u001b[0m\n",
      "\u001b[1;31mImportError\u001b[0m: cannot import name 'QtCore'"
     ]
    }
   ],
   "source": [
    "import networkx as nx\n",
    "import numpy as np\n",
    "import matplotlib.pyplot as plt"
   ]
  },
  {
   "cell_type": "code",
   "execution_count": null,
   "metadata": {
    "collapsed": true
   },
   "outputs": [],
   "source": []
  }
 ],
 "metadata": {
  "kernelspec": {
   "display_name": "Python 3",
   "language": "python",
   "name": "python3"
  },
  "language_info": {
   "codemirror_mode": {
    "name": "ipython",
    "version": 3
   },
   "file_extension": ".py",
   "mimetype": "text/x-python",
   "name": "python",
   "nbconvert_exporter": "python",
   "pygments_lexer": "ipython3",
   "version": "3.5.2"
  }
 },
 "nbformat": 4,
 "nbformat_minor": 0
}
