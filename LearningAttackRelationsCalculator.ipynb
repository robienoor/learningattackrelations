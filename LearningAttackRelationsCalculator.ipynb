{
 "cells": [
  {
   "cell_type": "markdown",
   "metadata": {},
   "source": [
    "<h1>Calculating the grounded extensions of a graph using Matrices</h1>\n",
    "\n",
    "We assume a that arguments attack relations are given in matrix form, in the form of a confusion matrix. We'll start by creating the matrix form of the argument graph below:"
   ]
  },
  {
   "cell_type": "code",
   "execution_count": 1,
   "metadata": {
    "collapsed": true
   },
   "outputs": [],
   "source": [
    "import numpy as np\n",
    "import pandas as pd"
   ]
  },
  {
   "cell_type": "code",
   "execution_count": 2,
   "metadata": {
    "collapsed": false
   },
   "outputs": [],
   "source": [
    "dungGraph = np.array([[0,0,1], [1,0,0], [0,0,0]])"
   ]
  },
  {
   "cell_type": "code",
   "execution_count": 3,
   "metadata": {
    "collapsed": false,
    "scrolled": false
   },
   "outputs": [
    {
     "data": {
      "text/plain": [
       "array([[0, 0, 1],\n",
       "       [1, 0, 0],\n",
       "       [0, 0, 0]])"
      ]
     },
     "execution_count": 3,
     "metadata": {},
     "output_type": "execute_result"
    }
   ],
   "source": [
    "dungGraph"
   ]
  },
  {
   "cell_type": "code",
   "execution_count": 4,
   "metadata": {
    "collapsed": false
   },
   "outputs": [],
   "source": [
    "sumArgs = dungGraph.sum(axis=0)"
   ]
  },
  {
   "cell_type": "code",
   "execution_count": 5,
   "metadata": {
    "collapsed": false,
    "scrolled": true
   },
   "outputs": [
    {
     "name": "stdout",
     "output_type": "stream",
     "text": [
      "[1]\n"
     ]
    }
   ],
   "source": [
    "inArgs = np.argwhere(sumArgs == 0)\n",
    "inArgs = (inArgs.tolist())\n",
    "inArgs = [i[0] for i in inArgs]\n",
    "print(inArgs)"
   ]
  },
  {
   "cell_type": "code",
   "execution_count": 6,
   "metadata": {
    "collapsed": false
   },
   "outputs": [
    {
     "name": "stdout",
     "output_type": "stream",
     "text": [
      "[[1 0 0]]\n"
     ]
    }
   ],
   "source": [
    "a = dungGraph[inArgs, :]\n",
    "print(a)"
   ]
  },
  {
   "cell_type": "code",
   "execution_count": 7,
   "metadata": {
    "collapsed": false
   },
   "outputs": [
    {
     "name": "stdout",
     "output_type": "stream",
     "text": [
      "[0]\n"
     ]
    }
   ],
   "source": [
    "outs = (np.unique(np.where(a>0)[1])).tolist()\n",
    "print(outs)"
   ]
  },
  {
   "cell_type": "markdown",
   "metadata": {},
   "source": [
    "<h3>Function for Calculating the In and Out Arguments of a Single Iteration</h3>"
   ]
  },
  {
   "cell_type": "code",
   "execution_count": 8,
   "metadata": {
    "collapsed": true
   },
   "outputs": [],
   "source": [
    "def getInOutArgs(argMtx):\n",
    "    sumArgs = argMtx.sum(axis=0)\n",
    "    \n",
    "    inArgs = np.argwhere(sumArgs == 0)\n",
    "    inArgs = (inArgs.tolist())\n",
    "    inArgs = [i[0] for i in inArgs]\n",
    "    \n",
    "    attacked = argMtx[inArgs, :]\n",
    "    \n",
    "    outArgs = (np.unique(np.where(attacked>0)[1])).tolist()\n",
    "    \n",
    "    return inArgs, outArgs"
   ]
  },
  {
   "cell_type": "markdown",
   "metadata": {},
   "source": [
    "<h3>Complete Function for Calculating the Grounded Extension</h3>"
   ]
  },
  {
   "cell_type": "code",
   "execution_count": 9,
   "metadata": {
    "collapsed": false
   },
   "outputs": [
    {
     "name": "stdout",
     "output_type": "stream",
     "text": [
      "[]\n"
     ]
    }
   ],
   "source": [
    "def calculateGroundedExtension(argMtx):\n",
    "    argTypes = np.array(range(0, argMtx.shape[0]))\n",
    "\n",
    "    ext = []\n",
    "    terminate = False\n",
    "\n",
    "    while not terminate:\n",
    "        inArgs, outArgs = getInOutArgs(argMtx)\n",
    "\n",
    "        if len(inArgs) > 0:\n",
    "            ext.extend(list(argTypes[inArgs]))\n",
    "            argsDelete = inArgs + outArgs\n",
    "            argMtx = np.delete(argMtx, argsDelete, axis = 0)\n",
    "            argMtx = np.delete(argMtx, argsDelete, axis = 1)\n",
    "            argTypes = np.delete(argTypes, argsDelete)\n",
    "\n",
    "        else:\n",
    "            break\n",
    "\n",
    "        sums = np.sum(argMtx.sum(axis=0))\n",
    "        \n",
    "        # If we find that the resulting graph (having deleted current in and out args) is got no more attacks in it then add \n",
    "        # whatever is leftover to the extension\n",
    "        if sums == 0:\n",
    "            ext.extend(list(argTypes))\n",
    "            terminate = True\n",
    "        \n",
    "    return ext\n",
    "\n",
    "argMtx = np.array([[0,1], [1,0]])\n",
    "print(calculateGroundedExtension(argMtx))"
   ]
  },
  {
   "cell_type": "code",
   "execution_count": 10,
   "metadata": {
    "collapsed": false
   },
   "outputs": [
    {
     "name": "stdout",
     "output_type": "stream",
     "text": [
      "extension\n",
      "[1, 2]\n"
     ]
    }
   ],
   "source": [
    "argMtx = np.array([[0,0,1], [1,0,0], [0,0,0]])\n",
    "argTypes = np.array(range(0, argMtx.shape[0]))\n",
    "\n",
    "ext = []\n",
    "terminate = False\n",
    "\n",
    "while not terminate:\n",
    "    inArgs, outArgs = getInOutArgs(argMtx)\n",
    "    \n",
    "    if len(inArgs) > 0:\n",
    "        ext.extend(list(argTypes[inArgs]))\n",
    "        argsDelete = inArgs + outArgs\n",
    "        argMtx = np.delete(argMtx, argsDelete, axis = 0)\n",
    "        argMtx = np.delete(argMtx, argsDelete, axis = 1)\n",
    "        argTypes = np.delete(argTypes, argsDelete)\n",
    "        \n",
    "    else:\n",
    "        break\n",
    "    \n",
    "    sums = np.sum(dungGraph.sum(axis=0))\n",
    "    terminate = (sums == 0)\n",
    "        \n",
    "\n",
    "print('extension')\n",
    "print(ext)\n",
    "    "
   ]
  },
  {
   "cell_type": "markdown",
   "metadata": {},
   "source": [
    "<h1>Generating All Attack Relations Given a Review and Rating</h1>\n"
   ]
  },
  {
   "cell_type": "code",
   "execution_count": 11,
   "metadata": {
    "collapsed": false
   },
   "outputs": [],
   "source": [
    "import itertools\n",
    "posArgs = [0]\n",
    "negArgs = [1,2]\n",
    "\n",
    "nargs = len(posArgs + negArgs)\n",
    "rating = 1\n",
    "\n",
    "groundedExtension = negArgs"
   ]
  },
  {
   "cell_type": "code",
   "execution_count": 12,
   "metadata": {
    "collapsed": false
   },
   "outputs": [
    {
     "name": "stdout",
     "output_type": "stream",
     "text": [
      "ptn\n",
      "(1, 2)\n",
      "5\n",
      "ptn\n",
      "(2, 1)\n",
      "7\n",
      "[0 4 5 7 8]\n",
      "[[0 0 0 0 0 0 0 0 0]\n",
      " [0 0 0 0 0 0 1 0 0]\n",
      " [0 0 0 1 0 0 0 0 0]\n",
      " [0 0 0 1 0 0 1 0 0]\n",
      " [0 0 1 0 0 0 0 0 0]\n",
      " [0 0 1 0 0 0 1 0 0]\n",
      " [0 0 1 1 0 0 0 0 0]\n",
      " [0 0 1 1 0 0 1 0 0]\n",
      " [0 1 0 0 0 0 0 0 0]\n",
      " [0 1 0 0 0 0 1 0 0]\n",
      " [0 1 0 1 0 0 0 0 0]\n",
      " [0 1 0 1 0 0 1 0 0]\n",
      " [0 1 1 0 0 0 0 0 0]\n",
      " [0 1 1 0 0 0 1 0 0]\n",
      " [0 1 1 1 0 0 0 0 0]\n",
      " [0 1 1 1 0 0 1 0 0]]\n"
     ]
    }
   ],
   "source": [
    "allPermutations = np.array(list(itertools.product([0,1], repeat=nargs*nargs)))\n",
    "\n",
    "\n",
    "circularAttacks = (np.arange(0, nargs*nargs, nargs+1)).tolist()\n",
    "\n",
    "samePolarityAttacks = []\n",
    "posList = list(itertools.permutations(posArgs, 2))\n",
    "negList = list(itertools.permutations(negArgs, 2))\n",
    "totList = posList + negList\n",
    "\n",
    "for l in totList:\n",
    "    ptn = ((l[0]+1)*nargs)- ((nargs+1) - l[1]) + 1 # All the odd +1 are to account for the shift in 0 index\n",
    "    print('ptn')\n",
    "    print(l)\n",
    "    print(ptn)\n",
    "    samePolarityAttacks.append(ptn)\n",
    "\n",
    "    \n",
    "graphsToDelete = np.unique([circularAttacks + samePolarityAttacks])\n",
    "\n",
    "print(graphsToDelete)\n",
    "subGraphs = allPermutations[:,graphsToDelete]\n",
    "cutDownGraphs = np.delete(allPermutations, (np.where(subGraphs>0)[0]).tolist(), axis = 0)\n",
    "\n",
    "print(cutDownGraphs)"
   ]
  },
  {
   "cell_type": "code",
   "execution_count": 13,
   "metadata": {
    "collapsed": false
   },
   "outputs": [
    {
     "name": "stdout",
     "output_type": "stream",
     "text": [
      "[0 0 0 1 0 0 1 0 0]\n"
     ]
    }
   ],
   "source": [
    "first = cutDownGraphs[3]\n",
    "print(first)"
   ]
  },
  {
   "cell_type": "markdown",
   "metadata": {},
   "source": [
    "<h3>Convert Each Member of CutDown into an Attack Matrix</h3>"
   ]
  },
  {
   "cell_type": "code",
   "execution_count": 14,
   "metadata": {
    "collapsed": false
   },
   "outputs": [
    {
     "name": "stdout",
     "output_type": "stream",
     "text": [
      "[[0 0 0]\n",
      " [1 0 0]\n",
      " [1 0 0]]\n"
     ]
    }
   ],
   "source": [
    "attackMatrix = np.vstack( np.array_split(np.array(first), nargs))\n",
    "print(attackMatrix)"
   ]
  },
  {
   "cell_type": "markdown",
   "metadata": {},
   "source": [
    "<h3>Iterate Over Each Permutation and See Grounded Ext</h3>\n",
    "\n",
    "We are checking to see that the grounded extension of each graph matches our ideal grounded extension. If we want we can change this criteria to say that the grounded extension of each graph should be a subset of the ideal grounded extension. This way it means that we allow some arguments to be attacked. Meaning arguments of the same set do not defend eachother all the time"
   ]
  },
  {
   "cell_type": "code",
   "execution_count": 15,
   "metadata": {
    "collapsed": false
   },
   "outputs": [],
   "source": [
    "acceptedGraphs = []\n",
    "\n",
    "for graph in cutDownGraphs:\n",
    "    attMtx = np.vstack( np.array_split(np.array(graph), nargs))\n",
    "    ext = calculateGroundedExtension(attMtx)\n",
    "    if set(groundedExtension) == set(ext): \n",
    "        acceptedGraphs.append(graph.tolist())    "
   ]
  },
  {
   "cell_type": "code",
   "execution_count": 16,
   "metadata": {
    "collapsed": false
   },
   "outputs": [
    {
     "name": "stdout",
     "output_type": "stream",
     "text": [
      "[[0 2 2]\n",
      " [5 0 0]\n",
      " [5 0 0]]\n"
     ]
    }
   ],
   "source": [
    "acceptedGraphs = np.array(acceptedGraphs)\n",
    "\n",
    "sumOfAttacks = (acceptedGraphs).sum(axis=0)\n",
    "print(np.vstack( np.array_split(np.array(sumOfAttacks), nargs)))"
   ]
  },
  {
   "cell_type": "code",
   "execution_count": 17,
   "metadata": {
    "collapsed": false
   },
   "outputs": [
    {
     "name": "stdout",
     "output_type": "stream",
     "text": [
      "[ 0.          0.28571429  0.28571429  0.71428571  0.          0.\n",
      "  0.71428571  0.          0.        ]\n"
     ]
    }
   ],
   "source": [
    "normalisedAttcks = sumOfAttacks / acceptedGraphs.shape[0]\n",
    "print(normalisedAttcks)"
   ]
  },
  {
   "cell_type": "markdown",
   "metadata": {},
   "source": [
    "<h3>Function for Calculating Normalised Distribution</h3>"
   ]
  },
  {
   "cell_type": "code",
   "execution_count": 18,
   "metadata": {
    "collapsed": true
   },
   "outputs": [],
   "source": [
    "def calculateProbabilityDistribution(posArgs, negArgs, rating):\n",
    "    \n",
    "    nargs = len(posArgs + negArgs)\n",
    "    allPermutations = np.array(list(itertools.product([0,1], repeat=nargs*nargs)))\n",
    "    \n",
    "    # Determine the Polarity of the Post\n",
    "    if rating < 5:\n",
    "        groundedExtension = negArgs\n",
    "    elif rating > 6:\n",
    "        groundedExtension = posArgs\n",
    "    else:\n",
    "        groundedExtension = []\n",
    "    \n",
    "    \n",
    "    # Create list of Attacks that we will never need. Circular attacks, and attacks between arguments of same polarity\n",
    "    circularAttacks = (np.arange(0, nargs*nargs, nargs+1)).tolist()\n",
    "    samePolarityAttacks = []\n",
    "    posList = list(itertools.permutations(posArgs, 2))\n",
    "    negList = list(itertools.permutations(negArgs, 2))\n",
    "    totList = posList + negList\n",
    "\n",
    "    for l in totList:\n",
    "        ptn = ((l[0]+1)*nargs)- ((nargs+1) - l[1]) + 1 # All the odd +1 are to account for the shift in 0 index\n",
    "        samePolarityAttacks.append(ptn)\n",
    "\n",
    "    \n",
    "    graphsToDelete = np.unique([circularAttacks + samePolarityAttacks])\n",
    "    subGraphs = allPermutations[:,graphsToDelete]\n",
    "    cutDownGraphs = np.delete(allPermutations, (np.where(subGraphs>0)[0]).tolist(), axis = 0)\n",
    "\n",
    "    # Iterate over the set of graphs that are possible (excluding circular attacks and same polarity attacks) to see which one's \n",
    "    # have a grounded extension matching the polarti\n",
    "    acceptedGraphs = []\n",
    "    for graph in cutDownGraphs:\n",
    "        attMtx = np.vstack( np.array_split(np.array(graph), nargs))\n",
    "        ext = calculateGroundedExtension(attMtx)\n",
    "        if set(groundedExtension) == set(ext): \n",
    "            acceptedGraphs.append(graph.tolist()) \n",
    "        \n",
    "    # Aggregate then normalise the complete set of Attacks\n",
    "    acceptedGraphs = np.array(acceptedGraphs)\n",
    "    sumOfAttacks = (acceptedGraphs).sum(axis=0)\n",
    "    normalisedAttcks = sumOfAttacks / acceptedGraphs.shape[0]\n",
    "    \n",
    "    return normalisedAttcks"
   ]
  },
  {
   "cell_type": "markdown",
   "metadata": {},
   "source": [
    "<h1>Generating Artificial Data</h1>\n",
    "\n",
    "We will generate a bunch of artificial data to test our pipeline with"
   ]
  },
  {
   "cell_type": "code",
   "execution_count": 19,
   "metadata": {
    "collapsed": false
   },
   "outputs": [],
   "source": [
    "highestRating = 10\n",
    "noArgsTypes = 6\n",
    "positiveArgTypes = [0,1,2]\n",
    "negativeArgTypes = [3,4,5]\n",
    "noPosts = 5\n",
    "\n",
    "randomReviews = np.random.randint(noArgsTypes, size=(noPosts,4))\n",
    "randomRatings = np.random.randint(highestRating, size=(noPosts,1))\n",
    "\n",
    "globalGraph = np.zeros(noArgsTypes*noArgsTypes)"
   ]
  },
  {
   "cell_type": "markdown",
   "metadata": {},
   "source": [
    "<h3>Calculating Normal Distributions for Each Review</h3>"
   ]
  },
  {
   "cell_type": "code",
   "execution_count": 20,
   "metadata": {
    "collapsed": false
   },
   "outputs": [
    {
     "name": "stdout",
     "output_type": "stream",
     "text": [
      "-----\n",
      "review:  [2 5 1 1]\n",
      "rating:  [7]\n",
      "posArgs:  [1, 2]\n",
      "negArgs:  [5]\n",
      "[ 0.          0.          0.71428571  0.          0.          0.71428571\n",
      "  0.28571429  0.28571429  0.        ]\n",
      "-----\n",
      "review:  [2 4 1 0]\n",
      "rating:  [1]\n",
      "posArgs:  [0, 1, 2]\n",
      "negArgs:  [4]\n",
      "[ 0.  0.  0.  0.  0.  0.  0.  0.  0.  0.  0.  0.  1.  1.  1.  0.]\n",
      "-----\n",
      "review:  [0 4 1 1]\n",
      "rating:  [5]\n",
      "posArgs:  [0, 1]\n",
      "negArgs:  [4]\n",
      "[ 0.          0.          0.66666667  0.          0.          0.66666667\n",
      "  1.          1.          0.        ]\n",
      "-----\n",
      "review:  [0 4 0 0]\n",
      "rating:  [3]\n",
      "posArgs:  [0]\n",
      "negArgs:  [4]\n",
      "[ 0.  0.  1.  0.]\n",
      "-----\n",
      "review:  [1 5 5 1]\n",
      "rating:  [7]\n",
      "posArgs:  [1]\n",
      "negArgs:  [5]\n",
      "[ 0.  1.  0.  0.]\n",
      "-----------------------------------------------------------------\n",
      "[ 0.          0.          0.          0.66666667  0.          0.          0.\n",
      "  0.          0.          0.66666667  1.71428571  0.          0.          0.\n",
      "  0.          0.          0.71428571  0.          0.          0.          0.\n",
      "  0.          0.          3.          2.          1.          0.          0.\n",
      "  0.          0.          0.28571429  0.28571429  0.          0.          0.\n",
      "  0.        ]\n"
     ]
    }
   ],
   "source": [
    "for idx, review in enumerate(randomReviews):\n",
    "    print('-----')\n",
    "    print('review: ', review)\n",
    "    print('rating: ', randomRatings[idx])\n",
    "    \n",
    "    posArgs = list(set(positiveArgTypes).intersection(review.tolist()))\n",
    "    print('posArgs: ', posArgs)\n",
    "    negArgs = list(set(negativeArgTypes).intersection(review.tolist()))\n",
    "    print('negArgs: ', negArgs)\n",
    "    posArgsIdx = list(range(0,len(posArgs)))\n",
    "    negArgsIdx = list(range(len(posArgs), len(posArgs)+len(negArgs)))\n",
    "    \n",
    "    nmlDstb = calculateProbabilityDistribution(posArgsIdx, negArgsIdx, randomRatings[idx])\n",
    "    print(nmlDstb)\n",
    "    globalContribution = np.zeros(noArgsTypes*noArgsTypes)\n",
    "    \n",
    "    noOfArgTypesFound = len(list(posArgs+negArgs))\n",
    "    \n",
    "    allAttacks = list(itertools.product(list(posArgs+negArgs), repeat=2))\n",
    "    allAttacksIdx = []\n",
    "    for attack in allAttacks:\n",
    "        ptn = ((attack[0]+1)*noArgsTypes)- ((noArgsTypes+1) - attack[1])\n",
    "        allAttacksIdx.append(ptn)\n",
    "    \n",
    "    globalContribution[allAttacksIdx] = nmlDstb\n",
    "    \n",
    "    globalGraph = np.add(globalGraph, globalContribution)\n",
    "    \n",
    " \n",
    "print('-----------------------------------------------------------------')\n",
    "print(globalGraph)"
   ]
  },
  {
   "cell_type": "code",
   "execution_count": 21,
   "metadata": {
    "collapsed": true
   },
   "outputs": [],
   "source": [
    "from sklearn.utils.extmath import cartesian"
   ]
  },
  {
   "cell_type": "code",
   "execution_count": null,
   "metadata": {
    "collapsed": true
   },
   "outputs": [],
   "source": []
  }
 ],
 "metadata": {
  "kernelspec": {
   "display_name": "Python 3",
   "language": "python",
   "name": "python3"
  },
  "language_info": {
   "codemirror_mode": {
    "name": "ipython",
    "version": 3
   },
   "file_extension": ".py",
   "mimetype": "text/x-python",
   "name": "python",
   "nbconvert_exporter": "python",
   "pygments_lexer": "ipython3",
   "version": "3.5.2"
  }
 },
 "nbformat": 4,
 "nbformat_minor": 0
}
