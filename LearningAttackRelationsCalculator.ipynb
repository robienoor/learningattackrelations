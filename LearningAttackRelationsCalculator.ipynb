{
 "cells": [
  {
   "cell_type": "markdown",
   "metadata": {},
   "source": [
    "<h1>Calculating the grounded extensions of a graph using Matrices</h1>\n",
    "\n",
    "We assume a that arguments attack relations are given in matrix form, in the form of a confusion matrix. We'll start by creating the matrix form of the argument graph below:"
   ]
  },
  {
   "cell_type": "code",
   "execution_count": 2,
   "metadata": {
    "collapsed": true
   },
   "outputs": [],
   "source": [
    "import numpy as np\n",
    "import pandas as pd"
   ]
  },
  {
   "cell_type": "code",
   "execution_count": 3,
   "metadata": {
    "collapsed": false
   },
   "outputs": [],
   "source": [
    "dungGraph = np.array([[0,0,1], [1,0,0], [0,0,0]])"
   ]
  },
  {
   "cell_type": "code",
   "execution_count": 4,
   "metadata": {
    "collapsed": false,
    "scrolled": false
   },
   "outputs": [
    {
     "data": {
      "text/plain": [
       "array([[0, 0, 1],\n",
       "       [1, 0, 0],\n",
       "       [0, 0, 0]])"
      ]
     },
     "execution_count": 4,
     "metadata": {},
     "output_type": "execute_result"
    }
   ],
   "source": [
    "dungGraph"
   ]
  },
  {
   "cell_type": "code",
   "execution_count": 5,
   "metadata": {
    "collapsed": false
   },
   "outputs": [],
   "source": [
    "sumArgs = dungGraph.sum(axis=0)"
   ]
  },
  {
   "cell_type": "code",
   "execution_count": 6,
   "metadata": {
    "collapsed": false,
    "scrolled": true
   },
   "outputs": [
    {
     "name": "stdout",
     "output_type": "stream",
     "text": [
      "[1]\n"
     ]
    }
   ],
   "source": [
    "inArgs = np.argwhere(sumArgs == 0)\n",
    "inArgs = (inArgs.tolist())\n",
    "inArgs = [i[0] for i in inArgs]\n",
    "print(inArgs)"
   ]
  },
  {
   "cell_type": "code",
   "execution_count": 7,
   "metadata": {
    "collapsed": false
   },
   "outputs": [
    {
     "name": "stdout",
     "output_type": "stream",
     "text": [
      "[[1 0 0]]\n"
     ]
    }
   ],
   "source": [
    "a = dungGraph[inArgs, :]\n",
    "print(a)"
   ]
  },
  {
   "cell_type": "code",
   "execution_count": 8,
   "metadata": {
    "collapsed": false
   },
   "outputs": [
    {
     "name": "stdout",
     "output_type": "stream",
     "text": [
      "[0]\n"
     ]
    }
   ],
   "source": [
    "outs = (np.unique(np.where(a>0)[1])).tolist()\n",
    "print(outs)"
   ]
  },
  {
   "cell_type": "markdown",
   "metadata": {},
   "source": [
    "<h3>Function for Calculating the In and Out Arguments of a Single Iteration</h3>"
   ]
  },
  {
   "cell_type": "code",
   "execution_count": 9,
   "metadata": {
    "collapsed": true
   },
   "outputs": [],
   "source": [
    "def getInOutArgs(argMtx):\n",
    "    sumArgs = argMtx.sum(axis=0)\n",
    "    \n",
    "    inArgs = np.argwhere(sumArgs == 0)\n",
    "    inArgs = (inArgs.tolist())\n",
    "    inArgs = [i[0] for i in inArgs]\n",
    "    \n",
    "    attacked = argMtx[inArgs, :]\n",
    "    \n",
    "    outArgs = (np.unique(np.where(attacked>0)[1])).tolist()\n",
    "    \n",
    "    return inArgs, outArgs"
   ]
  },
  {
   "cell_type": "markdown",
   "metadata": {},
   "source": [
    "<h3>Complete Function for Calculating the Grounded Extension</h3>"
   ]
  },
  {
   "cell_type": "code",
   "execution_count": 10,
   "metadata": {
    "collapsed": false
   },
   "outputs": [
    {
     "name": "stdout",
     "output_type": "stream",
     "text": [
      "[]\n"
     ]
    }
   ],
   "source": [
    "def calculateGroundedExtension(argMtx):\n",
    "    argTypes = np.array(range(0, argMtx.shape[0]))\n",
    "    ext = []\n",
    "    terminate = False\n",
    "\n",
    "    while not terminate:\n",
    "        inArgs, outArgs = getInOutArgs(argMtx)\n",
    "\n",
    "        if len(inArgs) > 0:\n",
    "            ext.extend(list(argTypes[inArgs]))\n",
    "            argsDelete = inArgs + outArgs\n",
    "            argMtx = np.delete(argMtx, argsDelete, axis = 0)\n",
    "            argMtx = np.delete(argMtx, argsDelete, axis = 1)\n",
    "            argTypes = np.delete(argTypes, argsDelete)\n",
    "\n",
    "        else:\n",
    "            break\n",
    "\n",
    "        sums = np.sum(argMtx.sum(axis=0))\n",
    "        \n",
    "        # If we find that the resulting graph (having deleted current in and out args) is got no more attacks in it then add \n",
    "        # whatever is leftover to the extension\n",
    "        if sums == 0:\n",
    "            ext.extend(list(argTypes))\n",
    "            terminate = True\n",
    "        \n",
    "    return ext\n",
    "\n",
    "argMtx = np.array([[0,1], [1,0]])\n",
    "print(calculateGroundedExtension(argMtx))"
   ]
  },
  {
   "cell_type": "code",
   "execution_count": 11,
   "metadata": {
    "collapsed": false
   },
   "outputs": [
    {
     "name": "stdout",
     "output_type": "stream",
     "text": [
      "extension\n",
      "[1, 2]\n"
     ]
    }
   ],
   "source": [
    "argMtx = np.array([[0,0,1], [1,0,0], [0,0,0]])\n",
    "argTypes = np.array(range(0, argMtx.shape[0]))\n",
    "\n",
    "ext = []\n",
    "terminate = False\n",
    "\n",
    "while not terminate:\n",
    "    inArgs, outArgs = getInOutArgs(argMtx)\n",
    "    \n",
    "    if len(inArgs) > 0:\n",
    "        ext.extend(list(argTypes[inArgs]))\n",
    "        argsDelete = inArgs + outArgs\n",
    "        argMtx = np.delete(argMtx, argsDelete, axis = 0)\n",
    "        argMtx = np.delete(argMtx, argsDelete, axis = 1)\n",
    "        argTypes = np.delete(argTypes, argsDelete)\n",
    "        \n",
    "    else:\n",
    "        break\n",
    "    \n",
    "    sums = np.sum(dungGraph.sum(axis=0))\n",
    "    terminate = (sums == 0)\n",
    "        \n",
    "\n",
    "print('extension')\n",
    "print(ext)\n",
    "    "
   ]
  },
  {
   "cell_type": "markdown",
   "metadata": {},
   "source": [
    "<h1>Generating All Attack Relations Given a Review and Rating</h1>\n"
   ]
  },
  {
   "cell_type": "code",
   "execution_count": 16,
   "metadata": {
    "collapsed": false
   },
   "outputs": [
    {
     "ename": "NameError",
     "evalue": "name 'nargs' is not defined",
     "output_type": "error",
     "traceback": [
      "\u001b[0;31m---------------------------------------------------------------------------\u001b[0m",
      "\u001b[0;31mNameError\u001b[0m                                 Traceback (most recent call last)",
      "\u001b[0;32m<ipython-input-16-edb4cc6e2503>\u001b[0m in \u001b[0;36m<module>\u001b[0;34m()\u001b[0m\n\u001b[1;32m      1\u001b[0m \u001b[0;32mimport\u001b[0m \u001b[0mitertools\u001b[0m\u001b[0;34m\u001b[0m\u001b[0m\n\u001b[0;32m----> 2\u001b[0;31m \u001b[0mallPermutations\u001b[0m \u001b[0;34m=\u001b[0m \u001b[0mnp\u001b[0m\u001b[0;34m.\u001b[0m\u001b[0marray\u001b[0m\u001b[0;34m(\u001b[0m\u001b[0mlist\u001b[0m\u001b[0;34m(\u001b[0m\u001b[0mitertools\u001b[0m\u001b[0;34m.\u001b[0m\u001b[0mproduct\u001b[0m\u001b[0;34m(\u001b[0m\u001b[0;34m[\u001b[0m\u001b[0;36m0\u001b[0m\u001b[0;34m,\u001b[0m\u001b[0;36m1\u001b[0m\u001b[0;34m]\u001b[0m\u001b[0;34m,\u001b[0m \u001b[0mrepeat\u001b[0m\u001b[0;34m=\u001b[0m\u001b[0mnargs\u001b[0m\u001b[0;34m*\u001b[0m\u001b[0mnargs\u001b[0m\u001b[0;34m)\u001b[0m\u001b[0;34m)\u001b[0m\u001b[0;34m)\u001b[0m\u001b[0;34m\u001b[0m\u001b[0m\n\u001b[0m\u001b[1;32m      3\u001b[0m \u001b[0;34m\u001b[0m\u001b[0m\n\u001b[1;32m      4\u001b[0m \u001b[0;34m\u001b[0m\u001b[0m\n\u001b[1;32m      5\u001b[0m \u001b[0mcircularAttacks\u001b[0m \u001b[0;34m=\u001b[0m \u001b[0;34m(\u001b[0m\u001b[0mnp\u001b[0m\u001b[0;34m.\u001b[0m\u001b[0marange\u001b[0m\u001b[0;34m(\u001b[0m\u001b[0;36m0\u001b[0m\u001b[0;34m,\u001b[0m \u001b[0mnargs\u001b[0m\u001b[0;34m*\u001b[0m\u001b[0mnargs\u001b[0m\u001b[0;34m,\u001b[0m \u001b[0mnargs\u001b[0m\u001b[0;34m+\u001b[0m\u001b[0;36m1\u001b[0m\u001b[0;34m)\u001b[0m\u001b[0;34m)\u001b[0m\u001b[0;34m.\u001b[0m\u001b[0mtolist\u001b[0m\u001b[0;34m(\u001b[0m\u001b[0;34m)\u001b[0m\u001b[0;34m\u001b[0m\u001b[0m\n",
      "\u001b[0;31mNameError\u001b[0m: name 'nargs' is not defined"
     ]
    }
   ],
   "source": [
    "import itertools\n",
    "allPermutations = np.array(list(itertools.product([0,1], repeat=nargs*nargs)))\n",
    "\n",
    "\n",
    "circularAttacks = (np.arange(0, nargs*nargs, nargs+1)).tolist()\n",
    "\n",
    "samePolarityAttacks = []\n",
    "posList = list(itertools.permutations(posArgs, 2))\n",
    "negList = list(itertools.permutations(negArgs, 2))\n",
    "totList = posList + negList\n",
    "\n",
    "for l in totList:\n",
    "    ptn = ((l[0]+1)*nargs)- ((nargs+1) - l[1]) + 1 # All the odd +1 are to account for the shift in 0 index\n",
    "    print('ptn')\n",
    "    print(l)\n",
    "    print(ptn)\n",
    "    samePolarityAttacks.append(ptn)\n",
    "\n",
    "    \n",
    "graphsToDelete = np.unique([circularAttacks + samePolarityAttacks])\n",
    "\n",
    "print(graphsToDelete)\n",
    "subGraphs = allPermutations[:,graphsToDelete]\n",
    "cutDownGraphs = np.delete(allPermutations, (np.where(subGraphs>0)[0]).tolist(), axis = 0)\n",
    "\n",
    "print(cutDownGraphs)"
   ]
  },
  {
   "cell_type": "code",
   "execution_count": 13,
   "metadata": {
    "collapsed": false
   },
   "outputs": [
    {
     "ename": "NameError",
     "evalue": "name 'cutDownGraphs' is not defined",
     "output_type": "error",
     "traceback": [
      "\u001b[0;31m---------------------------------------------------------------------------\u001b[0m",
      "\u001b[0;31mNameError\u001b[0m                                 Traceback (most recent call last)",
      "\u001b[0;32m<ipython-input-13-ba92b4b46d3b>\u001b[0m in \u001b[0;36m<module>\u001b[0;34m()\u001b[0m\n\u001b[0;32m----> 1\u001b[0;31m \u001b[0mfirst\u001b[0m \u001b[0;34m=\u001b[0m \u001b[0mcutDownGraphs\u001b[0m\u001b[0;34m[\u001b[0m\u001b[0;36m3\u001b[0m\u001b[0;34m]\u001b[0m\u001b[0;34m\u001b[0m\u001b[0m\n\u001b[0m\u001b[1;32m      2\u001b[0m \u001b[0mprint\u001b[0m\u001b[0;34m(\u001b[0m\u001b[0mfirst\u001b[0m\u001b[0;34m)\u001b[0m\u001b[0;34m\u001b[0m\u001b[0m\n",
      "\u001b[0;31mNameError\u001b[0m: name 'cutDownGraphs' is not defined"
     ]
    }
   ],
   "source": [
    "first = cutDownGraphs[3]\n",
    "print(first)"
   ]
  },
  {
   "cell_type": "code",
   "execution_count": 14,
   "metadata": {
    "collapsed": false
   },
   "outputs": [],
   "source": [
    "import numpy as np\n",
    "import itertools\n",
    "\n",
    "def generatePermutations(posArgs, negArgs):\n",
    "\n",
    "    from itertools import product, chain\n",
    "\n",
    "    posPerms = np.array(list(itertools.product([0,1], repeat=len(posArgs)*len(negArgs))))\n",
    "    negPerms = np.array(list(itertools.product([0,1], repeat=len(negArgs)*len(posArgs))))\n",
    "\n",
    "    allPermsList = [list(chain(*i)) for i in product(posPerms, negPerms)]\n",
    "\n",
    "    posIdxs = []\n",
    "    negIdxs = []\n",
    "\n",
    "    currPos = 0\n",
    "    for x in range(len(posArgs)):\n",
    "        start = currPos + len(posArgs)\n",
    "        posIdxs.extend(range(start, start + len(negArgs)))\n",
    "        currPos += (len(posArgs) + len(negArgs))\n",
    "\n",
    "\n",
    "    currNeg = len(posArgs)*(len(posArgs) + len(negArgs))\n",
    "    for x in range(len(negArgs)):\n",
    "        start = currNeg\n",
    "        negIdxs.extend(range(start, start + len(posArgs)))\n",
    "        currNeg += (len(posArgs) + len(negArgs))\n",
    "\n",
    "    allPerms = np.zeros(shape=(len(allPermsList), (len(posArgs)+len(negArgs))**2))\n",
    "    allPermsList = np.array(allPermsList)\n",
    "\n",
    "    allPerms[:,posIdxs] = allPermsList[:,0:(len(posArgs)*len(negArgs))]\n",
    "    allPerms[:,negIdxs] = allPermsList[:,(len(posArgs)*len(negArgs)):]\n",
    "\n",
    "    return allPerms"
   ]
  },
  {
   "cell_type": "markdown",
   "metadata": {},
   "source": [
    "<h3>Convert Each Member of CutDown into an Attack Matrix</h3>"
   ]
  },
  {
   "cell_type": "code",
   "execution_count": 15,
   "metadata": {
    "collapsed": false
   },
   "outputs": [
    {
     "ename": "NameError",
     "evalue": "name 'first' is not defined",
     "output_type": "error",
     "traceback": [
      "\u001b[0;31m---------------------------------------------------------------------------\u001b[0m",
      "\u001b[0;31mNameError\u001b[0m                                 Traceback (most recent call last)",
      "\u001b[0;32m<ipython-input-15-21f68d65f8db>\u001b[0m in \u001b[0;36m<module>\u001b[0;34m()\u001b[0m\n\u001b[0;32m----> 1\u001b[0;31m \u001b[0mattackMatrix\u001b[0m \u001b[0;34m=\u001b[0m \u001b[0mnp\u001b[0m\u001b[0;34m.\u001b[0m\u001b[0mvstack\u001b[0m\u001b[0;34m(\u001b[0m \u001b[0mnp\u001b[0m\u001b[0;34m.\u001b[0m\u001b[0marray_split\u001b[0m\u001b[0;34m(\u001b[0m\u001b[0mnp\u001b[0m\u001b[0;34m.\u001b[0m\u001b[0marray\u001b[0m\u001b[0;34m(\u001b[0m\u001b[0mfirst\u001b[0m\u001b[0;34m)\u001b[0m\u001b[0;34m,\u001b[0m \u001b[0mnargs\u001b[0m\u001b[0;34m)\u001b[0m\u001b[0;34m)\u001b[0m\u001b[0;34m\u001b[0m\u001b[0m\n\u001b[0m\u001b[1;32m      2\u001b[0m \u001b[0mprint\u001b[0m\u001b[0;34m(\u001b[0m\u001b[0mattackMatrix\u001b[0m\u001b[0;34m)\u001b[0m\u001b[0;34m\u001b[0m\u001b[0m\n",
      "\u001b[0;31mNameError\u001b[0m: name 'first' is not defined"
     ]
    }
   ],
   "source": [
    "attackMatrix = np.vstack( np.array_split(np.array(first), nargs))\n",
    "print(attackMatrix)"
   ]
  },
  {
   "cell_type": "markdown",
   "metadata": {},
   "source": [
    "<h3>Iterate Over Each Permutation and See Grounded Ext</h3>\n",
    "\n",
    "We are checking to see that the grounded extension of each graph matches our ideal grounded extension. If we want we can change this criteria to say that the grounded extension of each graph should be a subset of the ideal grounded extension. This way it means that we allow some arguments to be attacked. Meaning arguments of the same set do not defend eachother all the time"
   ]
  },
  {
   "cell_type": "code",
   "execution_count": null,
   "metadata": {
    "collapsed": false
   },
   "outputs": [],
   "source": [
    "acceptedGraphs = []\n",
    "\n",
    "for graph in cutDownGraphs:\n",
    "    attMtx = np.vstack( np.array_split(np.array(graph), nargs))\n",
    "    ext = calculateGroundedExtension(attMtx)\n",
    "    if set(groundedExtension) == set(ext): \n",
    "        acceptedGraphs.append(graph.tolist())    "
   ]
  },
  {
   "cell_type": "code",
   "execution_count": null,
   "metadata": {
    "collapsed": false
   },
   "outputs": [],
   "source": [
    "acceptedGraphs = np.array(acceptedGraphs)\n",
    "\n",
    "sumOfAttacks = (acceptedGraphs).sum(axis=0)\n",
    "print(np.vstack( np.array_split(np.array(sumOfAttacks), nargs)))"
   ]
  },
  {
   "cell_type": "code",
   "execution_count": null,
   "metadata": {
    "collapsed": false
   },
   "outputs": [],
   "source": [
    "normalisedAttcks = sumOfAttacks / acceptedGraphs.shape[0]\n",
    "print(normalisedAttcks)"
   ]
  },
  {
   "cell_type": "markdown",
   "metadata": {},
   "source": [
    "<h3>Function for Calculating Normalised Distribution</h3>"
   ]
  },
  {
   "cell_type": "code",
   "execution_count": null,
   "metadata": {
    "collapsed": false
   },
   "outputs": [],
   "source": [
    "def calculateProbabilityDistribution(posArgs, negArgs, rating):\n",
    "    \n",
    "    nargs = len(posArgs + negArgs)\n",
    "    allPermutations = generatePermutations(posArgs, negArgs)\n",
    "    \n",
    "    # Determine the Polarity of the Post\n",
    "    if rating < 5:\n",
    "        groundedExtension = negArgs\n",
    "    elif rating > 6:\n",
    "        groundedExtension = posArgs\n",
    "    else:\n",
    "        groundedExtension = []\n",
    "    \n",
    "\n",
    "    # Iterate over the set of graphs that are possible (excluding circular attacks and same polarity attacks) to see which one's \n",
    "    # have a grounded extension matching the polarti\n",
    "    acceptedGraphs = []\n",
    "    for graph in allPermutations:\n",
    "        attMtx = np.vstack( np.array_split(np.array(graph), nargs))\n",
    "        ext = calculateGroundedExtension(attMtx)\n",
    "        if set(groundedExtension) == set(ext): \n",
    "            acceptedGraphs.append(graph.tolist()) \n",
    "        \n",
    "    # Aggregate then normalise the complete set of Attacks\n",
    "    acceptedGraphs = np.array(acceptedGraphs)\n",
    "    sumOfAttacks = (acceptedGraphs).sum(axis=0)\n",
    "    normalisedAttcks = sumOfAttacks / acceptedGraphs.shape[0]\n",
    "    \n",
    "    return normalisedAttcks\n"
   ]
  },
  {
   "cell_type": "markdown",
   "metadata": {},
   "source": [
    "<h1>Generating Artificial Data</h1>\n",
    "\n",
    "We will generate a bunch of artificial data to test our pipeline with"
   ]
  },
  {
   "cell_type": "code",
   "execution_count": null,
   "metadata": {
    "collapsed": false
   },
   "outputs": [],
   "source": [
    "highestRating = 10\n",
    "noArgsTypes = 6\n",
    "positiveArgTypes = [0,1,2]\n",
    "negativeArgTypes = [3,4,5]\n",
    "noPosts = 5\n",
    "\n",
    "randomReviews = np.random.randint(noArgsTypes, size=(noPosts,4))\n",
    "randomRatings = np.random.randint(highestRating, size=(noPosts,1))\n",
    "\n",
    "globalGraph = np.zeros(noArgsTypes*noArgsTypes)"
   ]
  },
  {
   "cell_type": "markdown",
   "metadata": {},
   "source": [
    "<h3>Calculating Normal Distributions for Each Review</h3>"
   ]
  },
  {
   "cell_type": "code",
   "execution_count": null,
   "metadata": {
    "collapsed": false
   },
   "outputs": [],
   "source": [
    "for idx, review in enumerate(randomReviews):\n",
    "    \n",
    "    posArgs = list(set(positiveArgTypes).intersection(review.tolist()))\n",
    "    #print('posArgs: ', posArgs)\n",
    "    negArgs = list(set(negativeArgTypes).intersection(review.tolist()))\n",
    "    #print('negArgs: ', negArgs)\n",
    "    posArgsIdx = list(range(0,len(posArgs)))\n",
    "    negArgsIdx = list(range(len(posArgs), len(posArgs)+len(negArgs)))\n",
    "    \n",
    "    nmlDstb = calculateProbabilityDistribution(posArgsIdx, negArgsIdx, randomRatings[idx])\n",
    "    print(nmlDstb)\n",
    "    globalContribution = np.zeros(noArgsTypes*noArgsTypes)\n",
    "    \n",
    "    noOfArgTypesFound = len(list(posArgs+negArgs))\n",
    "    \n",
    "    allAttacks = list(itertools.product(list(posArgs+negArgs), repeat=2))\n",
    "    allAttacksIdx = []\n",
    "    for attack in allAttacks:\n",
    "        ptn = ((attack[0]+1)*noArgsTypes)- ((noArgsTypes+1) - attack[1])\n",
    "        allAttacksIdx.append(ptn)\n",
    "    \n",
    "    globalContribution[allAttacksIdx] = nmlDstb\n",
    "    \n",
    "    globalGraph = np.add(globalGraph, globalContribution)\n",
    "    \n",
    " \n",
    "print('-----------------------------------------------------------------')\n",
    "print(globalGraph)"
   ]
  },
  {
   "cell_type": "markdown",
   "metadata": {
    "collapsed": true
   },
   "source": [
    "<h1>Testing with annotated Data</h1>\n",
    "\n",
    "Next we will see what the weighted graph looks like when we use the annotation provided by a single annotator. We use a hundred posts, and have 6 possible argument types"
   ]
  },
  {
   "cell_type": "code",
   "execution_count": null,
   "metadata": {
    "collapsed": false
   },
   "outputs": [],
   "source": [
    "import json\n",
    "\n",
    "highestRating = 10\n",
    "positiveArgTypes = [0,3,5]\n",
    "negativeArgTypes = [1,2,4]\n",
    "noArgsTypes = len(positiveArgTypes) + len(negativeArgTypes)\n",
    "\n",
    "\n",
    "# Collect the annotation data into a numpy array\n",
    "annotatedPosts = []\n",
    "numericalsRatings = []\n",
    "\n",
    "with open('allAnnotationsChutesRun1.json') as data_file:\n",
    "    with open('ForumPosts.json') as ratings_file:\n",
    "        data = json.load(data_file)\n",
    "        \n",
    "\n",
    "        ratings = json.load(ratings_file)\n",
    "        \n",
    "        for idx, d in enumerate(data):\n",
    "            # We get 'Nones' sometimes when things left completeley blank. Replace with 0's so as not to interfere\n",
    "            # with our sums whilst letting us keep track of noOfSentences per post\n",
    "            d = [[0, 0, 0, 0, 0, 0, 0] if v is None else v for v in d] \n",
    "\n",
    "            d = np.array(d)\n",
    "            sums = d.sum(axis=0)\n",
    "            sums = np.argwhere(sums > 0)\n",
    "            sums = sums[sums !=6]\n",
    "            annotatedPosts.append(sums.tolist())\n",
    "            \n",
    "            numericalsRatings.append(ratings[idx]['Rating'])\n",
    "\n",
    "\n",
    "annotatedPosts = np.array(annotatedPosts)\n",
    "print(annotatedPosts)\n",
    "numericalsRatings = np.array(numericalsRatings)\n",
    "\n",
    "\n",
    "# Begin generating the distributions per post \n",
    "globalGraph = np.zeros(noArgsTypes*noArgsTypes)\n",
    "\n",
    "for idx, review in enumerate(annotatedPosts):\n",
    "    \n",
    "    posArgs = list(set(positiveArgTypes).intersection(review))\n",
    "    print('posArgs: ', posArgs)\n",
    "    negArgs = list(set(negativeArgTypes).intersection(review))\n",
    "    print('negArgs: ', negArgs)\n",
    "    posArgsIdx = list(range(0,len(posArgs)))\n",
    "    negArgsIdx = list(range(len(posArgs), len(posArgs)+len(negArgs)))\n",
    "    print('rating: ', numericalsRatings[idx])\n",
    "\n",
    "    nmlDstb = calculateProbabilityDistribution(posArgsIdx, negArgsIdx, numericalsRatings[idx])\n",
    "    print(nmlDstb)\n",
    "    globalContribution = np.zeros(noArgsTypes*noArgsTypes)\n",
    "    \n",
    "    noOfArgTypesFound = len(list(posArgs+negArgs))\n",
    "    \n",
    "    allAttacks = list(itertools.product(list(posArgs+negArgs), repeat=2))\n",
    "    allAttacksIdx = []\n",
    "    for attack in allAttacks:\n",
    "        ptn = ((attack[0]+1)*noArgsTypes)- ((noArgsTypes+1) - attack[1])+1\n",
    "        allAttacksIdx.append(ptn)\n",
    "    \n",
    "    print('atidx',allAttacksIdx)\n",
    "    globalContribution[allAttacksIdx] = nmlDstb\n",
    "    print('globalcnt', globalContribution)\n",
    "    \n",
    "    if(np.isnan(globalContribution).any()):\n",
    "        print('nan returned')\n",
    "        continue\n",
    "    \n",
    "    globalGraph = np.add(globalGraph, globalContribution)\n",
    "    #print(globalGraph)\n",
    " \n",
    "print('-----------------------------------------------------------------')\n",
    "globalGraphMtxForm = np.vstack( np.array_split(np.array(globalGraph), noArgsTypes))\n",
    "print(globalGraphMtxForm)\n",
    "\n",
    "        "
   ]
  },
  {
   "cell_type": "code",
   "execution_count": null,
   "metadata": {
    "collapsed": false
   },
   "outputs": [],
   "source": [
    "for (x,y), value in np.ndenumerate(globalGraphMtxForm):\n",
    "    print((x,y), ':', value)\n",
    "            "
   ]
  },
  {
   "cell_type": "code",
   "execution_count": null,
   "metadata": {
    "collapsed": true
   },
   "outputs": [],
   "source": []
  },
  {
   "cell_type": "code",
   "execution_count": null,
   "metadata": {
    "collapsed": false,
    "scrolled": true
   },
   "outputs": [],
   "source": [
    "import networkx as nx\n",
    "import numpy as np\n",
    "import matplotlib.pyplot as plt\n",
    "import pylab\n",
    "import string\n",
    "\n",
    "G = nx.DiGraph()\n",
    "letters = list(string.ascii_lowercase) # Will fail if we have more arguments than the number of letters in the alphabet\n",
    "nodesNames = letters[0:globalGraphMtxForm.shape[0]] \n",
    "\n",
    "for (r,c), weight in np.ndenumerate(globalGraphMtxForm):\n",
    "    if weight == 0:\n",
    "        continue\n",
    "    G.add_edge(nodesNames[r], nodesNames[c], length = round(weight,2))\n",
    " \n",
    "#pos = nx.spring_layout(G,scale=5)\n",
    "pos = nx.circular_layout(G, scale=5)\n",
    "nx.draw(G, pos)\n",
    "edge_labels=dict([((u,v,),d['length'])\n",
    "             for u,v,d in G.edges(data=True)])\n",
    "nx.draw_networkx_edge_labels(G, pos, edge_labels=edge_labels, label_pos=0.3, font_size=7)\n",
    "\n",
    "labels = {}\n",
    "for node in nodesNames:\n",
    "    labels[node] = node\n",
    "\n",
    "nx.draw_networkx_labels(G,pos,labels,font_size=8)\n",
    "\n",
    "\n",
    "plt.show()\n",
    "\n"
   ]
  },
  {
   "cell_type": "markdown",
   "metadata": {},
   "source": [
    "<html>\n",
    "<head>\n",
    "<style>\n",
    "table {\n",
    "    font-family: arial, sans-serif;\n",
    "    border-collapse: collapse;\n",
    "    width: 100%;\n",
    "}\n",
    "\n",
    "td, th {\n",
    "    border: 1px solid #dddddd;\n",
    "    text-align: left;\n",
    "    padding: 8px;\n",
    "}\n",
    "\n",
    "tr:nth-child(even) {\n",
    "    background-color: #dddddd;\n",
    "}\n",
    "</style>\n",
    "</head>\n",
    "<body>\n",
    "\n",
    "<table>\n",
    "  <tr>\n",
    "    <th>Node Label</th>\n",
    "    <th>Argument Type</th>\n",
    "  </tr>\n",
    "  <tr>\n",
    "    <td>a</td>\n",
    "    <td>Positive Argument</td>\n",
    "  </tr>\n",
    "  <tr>\n",
    "    <td>b</td>\n",
    "    <td>Negative Arguments</td>\n",
    "  </tr>\n",
    "  <tr>\n",
    "    <td>c</td>\n",
    "    <td>Side Effects Present</td>\n",
    "  </tr>\n",
    "  <tr>\n",
    "    <td>d</td>\n",
    "    <td>No Side Effects</td>\n",
    "  </tr>\n",
    "  <tr>\n",
    "    <td>e</td>\n",
    "    <td>Side Effects Painful</td>\n",
    "  </tr>\n",
    "  <tr>\n",
    "    <td>f</td>\n",
    "    <td>Bearable Side Effects</td>\n",
    "  </tr>\n",
    "</table>\n",
    "\n",
    "</body>\n",
    "</html>\n"
   ]
  },
  {
   "cell_type": "code",
   "execution_count": null,
   "metadata": {
    "collapsed": true
   },
   "outputs": [],
   "source": []
  }
 ],
 "metadata": {
  "anaconda-cloud": {},
  "kernelspec": {
   "display_name": "Python [default]",
   "language": "python",
   "name": "python3"
  },
  "language_info": {
   "codemirror_mode": {
    "name": "ipython",
    "version": 3
   },
   "file_extension": ".py",
   "mimetype": "text/x-python",
   "name": "python",
   "nbconvert_exporter": "python",
   "pygments_lexer": "ipython3",
   "version": "3.5.2"
  }
 },
 "nbformat": 4,
 "nbformat_minor": 0
}
